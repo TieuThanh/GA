{
  "nbformat": 4,
  "nbformat_minor": 0,
  "metadata": {
    "colab": {
      "name": "Untitled1.ipynb",
      "provenance": [],
      "collapsed_sections": []
    },
    "kernelspec": {
      "name": "python3",
      "display_name": "Python 3.8.3 64-bit ('base': conda)",
      "metadata": {
        "interpreter": {
          "hash": "7bf5d462d8c98ee89d28d5005b01acb797f2ec957976cadd3d51130d325d2701"
        }
      }
    }
  },
  "cells": [
    {
      "cell_type": "markdown",
      "metadata": {
        "id": "iosbyMxL_9FI"
      },
      "source": [
        "# Khởi tạo tham số và các hàm cần thiết"
      ]
    },
    {
      "cell_type": "code",
      "metadata": {
        "id": "QlRz-FXYc5Ct"
      },
      "source": [
        "import numpy as np\n",
        "import matplotlib.pyplot as plt\n",
        "import os\n",
        "import math\n",
        "from matplotlib.animation import FuncAnimation\n",
        "from IPython.display import HTML\n",
        "import pandas as pd\n",
        "import matplotlib\n",
        "import matplotlib.gridspec as gridspec\n",
        "plt.style.use('ggplot')\n",
        "# import seaborn as sns\n",
        "\n",
        "import plotly.express as px\n",
        "import plotly.graph_objects as go\n",
        "import plotly.figure_factory as ff\n",
        "from plotly.colors import n_colors\n",
        "from plotly.subplots import make_subplots"
      ],
      "execution_count": 11,
      "outputs": []
    },
    {
      "source": [
        "## Các hàm mục tiêu"
      ],
      "cell_type": "code",
      "metadata": {
        "id": "z6W4yheJAIJH"
      },
      "execution_count": 12,
      "outputs": []
    },
    {
      "cell_type": "code",
      "metadata": {
        "id": "V36XmGvAdFTb"
      },
      "source": [
        "def Rastrigin(particle):\n",
        "    A = 10\n",
        "    d = particle.shape[0]\n",
        "    return A*d + sum([particle[i]**2 - A*math.cos(2*math.pi*particle[i]) for i in range(d)])\n",
        "\n",
        "def Rosenbrock(particle):\n",
        "    return sum([100*(particle[i+1] - particle[i]**2)**2 + (1 - particle[i])**2 for i in range(particle.shape[0]-1)])\n",
        "\n",
        "def Eggholder(particle):\n",
        "    x = particle[0]\n",
        "    y = particle[1]\n",
        "    return -(y + 47)*math.sin(math.sqrt(abs(x/2 + y + 47))) - x*math.sin(math.sqrt(abs(x - y - 47)))\n",
        "\n",
        "def Ackley(particle):\n",
        "    x = particle[0]\n",
        "    y = particle[1]\n",
        "    return -20*math.exp(-0.2*math.sqrt(0.5*(x**2 + y**2))) - math.exp(0.5*(math.cos(2*math.pi*x) + math.cos(2*math.pi*y))) + math.e + 20\n",
        "\n"
      ],
      "execution_count": 13,
      "outputs": []
    },
    {
      "cell_type": "markdown",
      "metadata": {
        "id": "bsq-FkKoALUR"
      },
      "source": [
        "##  Tham số mặc định"
      ]
    },
    {
      "cell_type": "code",
      "metadata": {
        "id": "xSaH7xDqdH4A"
      },
      "source": [
        "# Thiết lập một số tham số khởi tạo\n",
        "# quán tính\n",
        "w = 0.7298\n",
        "\n",
        "#Hằng số gia tốc\n",
        "c1 = c2 = 1.49618\n",
        "\n",
        "# Random seed\n",
        "RANDOM_SEED = 17521056\n",
        "\n",
        "# mapping \n",
        "mapping = {\n",
        "    Rastrigin: (-5.12,5.12),\n",
        "    Rosenbrock: (-1e+30 , 1e+30),\n",
        "    Eggholder: (-512,512),\n",
        "    Ackley: (-5,5)\n",
        "}"
      ],
      "execution_count": 14,
      "outputs": []
    },
    {
      "cell_type": "markdown",
      "metadata": {
        "id": "xnWEcYHdBgf9"
      },
      "source": [
        "## Hàm visualize"
      ]
    },
    {
      "cell_type": "code",
      "metadata": {
        "id": "TD0vlhqQBgJQ"
      },
      "source": [
        "def draw(results, search_domain, func):\n",
        "    # Hàm animation\n",
        "    def animate(i):\n",
        "        x = results[i][:,0]\n",
        "        y = results[i][:,1]\n",
        "        points.set_data(x, y)\n",
        "        return points,\n",
        "        \n",
        "    fig = plt.figure()\n",
        "    ax = plt.axes(xlim = search_domain, ylim=search_domain)\n",
        "    points, = ax.plot([], [], 'o', color = 'red')\n",
        "    \n",
        "    # Lấy các giá trị X,Y,Z\n",
        "    X = []\n",
        "    Y = []\n",
        "    Z_grid = []\n",
        "    \n",
        "    for i in range(len(results)):\n",
        "        X.append(results[i][:,0])\n",
        "        Y.append(results[i][:,1])\n",
        "    \n",
        "    # tăng số lượng mẫu\n",
        "    X_grid, Y_grid = np.meshgrid(X,Y)\n",
        "    X_grid = X_grid.flatten()\n",
        "    Y_grid = Y_grid.flatten()\n",
        "    \n",
        "    # Tìm giá trị của Z_grid\n",
        "    for x, y in zip(X_grid, Y_grid):\n",
        "        temp = np.array([x,y])\n",
        "        Z_grid.append(func(temp))\n",
        "    \n",
        "    # Chuyển Z_grid về array\n",
        "    Z_grid = np.array(Z_grid)\n",
        "    \n",
        "    # Vẽ countour \n",
        "    plt.tricontour(X_grid, Y_grid, Z_grid)\n",
        "    # plt.tripcolor(X_grid, Y_grid, Z_grid)\n",
        "    # Vẽ amination\n",
        "    anim = FuncAnimation(fig, animate, frames=len(results), interval=400, blit=True)\n",
        "    # save .gif\n",
        "    anim.save(\"{}_{}.gif\".format(results[0].shape[1],func))\n",
        "    # Hiển thị kq\n",
        "    # HTML(anim.to_html5_video())\n",
        "    "
      ],
      "execution_count": 26,
      "outputs": []
    },
    {
      "cell_type": "markdown",
      "metadata": {
        "id": "FgEN9vBCAP1p"
      },
      "source": [
        "## Hàm khởi tạo ban đầu"
      ]
    },
    {
      "cell_type": "code",
      "metadata": {
        "id": "BBhxU9hKdKaz"
      },
      "source": [
        "def init(num_values, search_domain, N = 32, random_seed = RANDOM_SEED):\n",
        "    np.random.seed(random_seed)\n",
        "    return np.random.uniform(search_domain[0],search_domain[1],(N,num_values))"
      ],
      "execution_count": 16,
      "outputs": []
    },
    {
      "cell_type": "markdown",
      "metadata": {
        "id": "TdV0Z1GQDGGI"
      },
      "source": [
        "# Ring PSO"
      ]
    },
    {
      "cell_type": "code",
      "metadata": {
        "id": "Wma4O-XOdMeA"
      },
      "source": [
        "def ringPSO(num_values, function, search_domain, N = 32, random_seed = RANDOM_SEED, G = 50):\n",
        "    count = 0\n",
        "    particles = init(num_values, search_domain, N, random_seed)\n",
        "    results = [particles.copy()]\n",
        "    # vị trí tốt nhất mà phần tử đó đã đạt được trong quá khứ\n",
        "    pBest = [None]*N\n",
        "    yBest = np.zeros((N,num_values))\n",
        "    \n",
        "    # vị trí tốt nhất mà cả cụm đạt được trong quá khứ\n",
        "    gBest = [1e+10000]*N\n",
        "    zBest = [None]*N\n",
        "    \n",
        "    # Khởi tạo vị trí trong lần lặp đầu tiên\n",
        "    for i in range(N):\n",
        "        count += 1\n",
        "        pBest[i] = function(particles[i])\n",
        "        yBest[i] = particles[i]\n",
        "    \n",
        "    # Tìm vị trí tôt nhất trong K phần tử lân cận\n",
        "    for i in range(N - 1):\n",
        "        \n",
        "        # Tìm giá trị nhỏ nhất trong k phần tử\n",
        "        local_min = min(pBest[i-1],pBest[i],pBest[i+1])\n",
        "        \n",
        "        if gBest[i] > local_min:\n",
        "        \n",
        "            # Lưu lại giá trị nhỏ nhất\n",
        "            gBest[i] = local_min\n",
        "\n",
        "            # Lưu lại vị trí tốt nhất\n",
        "            min_id = np.argmin([pBest[i-1],pBest[i],pBest[i+1]]) - 1\n",
        "            zBest[i] = yBest[i + min_id]\n",
        "                \n",
        "    # Phần tử cuối của mảng\n",
        "    local_min = min(pBest[N-2],pBest[N-1],pBest[0])\n",
        "    if gBest[-1] > local_min:\n",
        "        gBest[-1] = local_min\n",
        "        \n",
        "        # Lấy min_id\n",
        "        min_id = np.argmin([pBest[N-2],pBest[N-1],pBest[0]])\n",
        "        zBest[-1] = yBest[-min_id]\n",
        "\n",
        "    # Tìm vector hiện tại tốt nhất của mỗi particle: V[i] = pos[i] - pos_bestest_k[i]\n",
        "    V = particles - np.array(zBest)\n",
        "\n",
        "    if num_values == 2:\n",
        "        repeat = 1\n",
        "        while(repeat < G):\n",
        "            for i in range(N):\n",
        "                r1, r2 = np.random.uniform(0,1,(2, num_values))\n",
        "                # cognitive component\n",
        "                cogn = c1*r1*(yBest[i] - particles[i])\n",
        "                # social component\n",
        "                social = c2*r2*(zBest[i] - particles[i])\n",
        "                # Update V[i]\n",
        "                V[i] = w*V[i] + cogn + social\n",
        "                # Update position\n",
        "                particles[i] += V[i]\n",
        "\n",
        "                # Check giá trị của mỗi vị trí trong search domain\n",
        "                for j in range(num_values):\n",
        "                    if particles[i][j] > search_domain[1]:\n",
        "                        particles[i][j] = search_domain[1] - np.random.uniform(0,.01)\n",
        "                    elif particles[i][j] < search_domain[0]:\n",
        "                        particles[i][j] = search_domain[0] + np.random.uniform(0,.01)\n",
        "\n",
        "            # Lặp\n",
        "            for i in range(N):\n",
        "                if function(particles[i]) < pBest[i]:\n",
        "                    pBest[i] = function(particles[i])\n",
        "                    yBest[i] = particles[i]\n",
        "\n",
        "            # Tìm vị trí tôt nhất trong K phần tử lân cận\n",
        "\n",
        "            for i in range(N - 1):\n",
        "                # Tìm giá trị nhỏ nhất trong k phần tử\n",
        "                local_min = min(pBest[i-1],pBest[i],pBest[i+1])\n",
        "                if gBest[i] > local_min:\n",
        "                    # Lưu lại giá trị nhỏ nhất\n",
        "                    gBest[i] = local_min\n",
        "\n",
        "                    # Lưu lại vị trí tốt nhất\n",
        "                    min_id = np.argmin([pBest[i-1],pBest[i],pBest[i+1]]) - 1\n",
        "                    zBest[i] = yBest[i + min_id]\n",
        "\n",
        "            # Phần tử cuối của mảng\n",
        "            local_min = min(pBest[N-2],pBest[N-1],pBest[0])\n",
        "            if gBest[-1] > local_min:\n",
        "                gBest[-1] = local_min\n",
        "\n",
        "                # Lấy min_id\n",
        "                min_id = np.argmin([pBest[N-2],pBest[N-1],pBest[0]])\n",
        "                zBest[-1] = yBest[-min_id]\n",
        "            repeat+=1\n",
        "            results.append(particles.copy())\n",
        "    else:\n",
        "        while(count != 1000000):\n",
        "            for i in range(N):\n",
        "                r1, r2 = np.random.uniform(0,1,(2, num_values))\n",
        "                # cognitive component\n",
        "                cogn = c1*r1*(yBest[i] - particles[i])\n",
        "                # social component\n",
        "                social = c2*r2*(zBest[i] - particles[i])\n",
        "                # Update V[i]\n",
        "                V[i] = w*V[i] + cogn + social\n",
        "                # Update position\n",
        "                particles[i] += V[i]\n",
        "\n",
        "                # Check giá trị của mỗi vị trí trong search domain\n",
        "                for j in range(num_values):\n",
        "                    if particles[i][j] > search_domain[1]:\n",
        "                        particles[i][j] = search_domain[1] - np.random.uniform(0,.01)\n",
        "                    elif particles[i][j] < search_domain[0]:\n",
        "                        particles[i][j] = search_domain[0] + np.random.uniform(0,.01)\n",
        "\n",
        "            # Lặp\n",
        "            for i in range(N):\n",
        "                if count == 1000000:\n",
        "                    break\n",
        "                count += 1\n",
        "                if function(particles[i]) < pBest[i]:\n",
        "                    pBest[i] = function(particles[i])\n",
        "                    yBest[i] = particles[i]\n",
        "\n",
        "            # Tìm vị trí tôt nhất trong K phần tử lân cận\n",
        "\n",
        "            for i in range(N - 1):\n",
        "                # Tìm giá trị nhỏ nhất trong k phần tử\n",
        "                local_min = min(pBest[i-1],pBest[i],pBest[i+1])\n",
        "                if gBest[i] > local_min:\n",
        "\n",
        "                    # Lưu lại giá trị nhỏ nhất\n",
        "                    gBest[i] = local_min\n",
        "\n",
        "                    # Lưu lại vị trí tốt nhất\n",
        "                    min_id = np.argmin([pBest[i-1],pBest[i],pBest[i+1]]) - 1\n",
        "                    zBest[i] = yBest[i + min_id]\n",
        "\n",
        "            # Phần tử cuối của mảng\n",
        "            local_min = min(pBest[N-2],pBest[N-1],pBest[0])\n",
        "            if gBest[-1] > local_min:\n",
        "                gBest[-1] = local_min\n",
        "\n",
        "                # Lấy min_id\n",
        "                min_id = np.argmin([pBest[N-2],pBest[N-1],pBest[0]])\n",
        "                zBest[-1] = yBest[-min_id]\n",
        "            results.append(particles.copy())\n",
        "    index = np.argmin(gBest)\n",
        "    return results, gBest[index], zBest[i]"
      ],
      "execution_count": 17,
      "outputs": []
    },
    {
      "cell_type": "markdown",
      "metadata": {
        "id": "iu1CrP1mDeLW"
      },
      "source": [
        "### TH1:  d = 2"
      ]
    },
    {
      "cell_type": "code",
      "metadata": {
        "id": "lctNKBf5Ecu2"
      },
      "source": [
        "f = open(\"results.txt\", 'w+')"
      ],
      "execution_count": null,
      "outputs": []
    },
    {
      "cell_type": "markdown",
      "metadata": {
        "id": "VKEOPpdfDOI1"
      },
      "source": [
        "### với hàm mục tiêu là Rastrigin"
      ]
    },
    {
      "cell_type": "code",
      "metadata": {
        "colab": {
          "base_uri": "https://localhost:8080/"
        },
        "id": "ubNEAyqgDNdl",
        "outputId": "3cd6b8e4-5280-4dc8-a582-31a2a3fa1392"
      },
      "source": [
        "results = ringPSO(2,Rastrigin,mapping[Rastrigin])\n",
        "print(\"Lời giải tốt nhất: \", results[1])\n",
        "print(\"Điểm cho lời giải tốt nhất là:\", results[2])\n",
        "# visulize \n",
        "points = results[0]\n",
        "ani = draw(points,mapping[Rastrigin],Rastrigin)\n",
        "# HTML(ani.to_html5_video())"
      ],
      "execution_count": 21,
      "outputs": [
        {
          "output_type": "stream",
          "name": "stdout",
          "text": [
            "Lời giải tốt nhất:  0.007910366171884675\nĐiểm cho lời giải tốt nhất là: [-0.99724405  0.98968522]\n"
          ]
        },
        {
          "output_type": "display_data",
          "data": {
            "text/plain": "<Figure size 432x288 with 1 Axes>",
            "image/svg+xml": "<?xml version=\"1.0\" encoding=\"utf-8\" standalone=\"no\"?>\n<!DOCTYPE svg PUBLIC \"-//W3C//DTD SVG 1.1//EN\"\n  \"http://www.w3.org/Graphics/SVG/1.1/DTD/svg11.dtd\">\n<!-- Created with matplotlib (https://matplotlib.org/) -->\n<svg height=\"248.518125pt\" version=\"1.1\" viewBox=\"0 0 386.845312 248.518125\" width=\"386.845312pt\" xmlns=\"http://www.w3.org/2000/svg\" xmlns:xlink=\"http://www.w3.org/1999/xlink\">\n <metadata>\n  <rdf:RDF xmlns:cc=\"http://creativecommons.org/ns#\" xmlns:dc=\"http://purl.org/dc/elements/1.1/\" xmlns:rdf=\"http://www.w3.org/1999/02/22-rdf-syntax-ns#\">\n   <cc:Work>\n    <dc:type rdf:resource=\"http://purl.org/dc/dcmitype/StillImage\"/>\n    <dc:date>2020-11-22T23:37:08.685959</dc:date>\n    <dc:format>image/svg+xml</dc:format>\n    <dc:creator>\n     <cc:Agent>\n      <dc:title>Matplotlib v3.3.3, https://matplotlib.org/</dc:title>\n     </cc:Agent>\n    </dc:creator>\n   </cc:Work>\n  </rdf:RDF>\n </metadata>\n <defs>\n  <style type=\"text/css\">*{stroke-linecap:butt;stroke-linejoin:round;}</style>\n </defs>\n <g id=\"figure_1\">\n  <g id=\"patch_1\">\n   <path d=\"M 0 248.518125 \nL 386.845312 248.518125 \nL 386.845312 0 \nL 0 0 \nz\n\" style=\"fill:#ffffff;\"/>\n  </g>\n  <g id=\"axes_1\">\n   <g id=\"patch_2\">\n    <path d=\"M 44.845313 224.64 \nL 379.645313 224.64 \nL 379.645313 7.2 \nL 44.845313 7.2 \nz\n\" style=\"fill:#e5e5e5;\"/>\n   </g>\n   <g id=\"matplotlib.axis_1\">\n    <g id=\"xtick_1\">\n     <g id=\"line2d_1\">\n      <path clip-path=\"url(#pe3d60ae0ea)\" d=\"M 90.499858 224.64 \nL 90.499858 7.2 \n\" style=\"fill:none;stroke:#ffffff;stroke-linecap:square;stroke-width:0.8;\"/>\n     </g>\n     <g id=\"line2d_2\">\n      <defs>\n       <path d=\"M 0 0 \nL 0 3.5 \n\" id=\"m3d2c6088e8\" style=\"stroke:#555555;stroke-width:0.8;\"/>\n      </defs>\n      <g>\n       <use style=\"fill:#555555;stroke:#555555;stroke-width:0.8;\" x=\"90.499858\" xlink:href=\"#m3d2c6088e8\" y=\"224.64\"/>\n      </g>\n     </g>\n     <g id=\"text_1\">\n      <!-- −0.04 -->\n      <g style=\"fill:#555555;\" transform=\"translate(75.177202 239.238437)scale(0.1 -0.1)\">\n       <defs>\n        <path d=\"M 10.59375 35.5 \nL 73.1875 35.5 \nL 73.1875 27.203125 \nL 10.59375 27.203125 \nz\n\" id=\"DejaVuSans-8722\"/>\n        <path d=\"M 31.78125 66.40625 \nQ 24.171875 66.40625 20.328125 58.90625 \nQ 16.5 51.421875 16.5 36.375 \nQ 16.5 21.390625 20.328125 13.890625 \nQ 24.171875 6.390625 31.78125 6.390625 \nQ 39.453125 6.390625 43.28125 13.890625 \nQ 47.125 21.390625 47.125 36.375 \nQ 47.125 51.421875 43.28125 58.90625 \nQ 39.453125 66.40625 31.78125 66.40625 \nz\nM 31.78125 74.21875 \nQ 44.046875 74.21875 50.515625 64.515625 \nQ 56.984375 54.828125 56.984375 36.375 \nQ 56.984375 17.96875 50.515625 8.265625 \nQ 44.046875 -1.421875 31.78125 -1.421875 \nQ 19.53125 -1.421875 13.0625 8.265625 \nQ 6.59375 17.96875 6.59375 36.375 \nQ 6.59375 54.828125 13.0625 64.515625 \nQ 19.53125 74.21875 31.78125 74.21875 \nz\n\" id=\"DejaVuSans-48\"/>\n        <path d=\"M 10.6875 12.40625 \nL 21 12.40625 \nL 21 0 \nL 10.6875 0 \nz\n\" id=\"DejaVuSans-46\"/>\n        <path d=\"M 37.796875 64.3125 \nL 12.890625 25.390625 \nL 37.796875 25.390625 \nz\nM 35.203125 72.90625 \nL 47.609375 72.90625 \nL 47.609375 25.390625 \nL 58.015625 25.390625 \nL 58.015625 17.1875 \nL 47.609375 17.1875 \nL 47.609375 0 \nL 37.796875 0 \nL 37.796875 17.1875 \nL 4.890625 17.1875 \nL 4.890625 26.703125 \nz\n\" id=\"DejaVuSans-52\"/>\n       </defs>\n       <use xlink:href=\"#DejaVuSans-8722\"/>\n       <use x=\"83.789062\" xlink:href=\"#DejaVuSans-48\"/>\n       <use x=\"147.412109\" xlink:href=\"#DejaVuSans-46\"/>\n       <use x=\"179.199219\" xlink:href=\"#DejaVuSans-48\"/>\n       <use x=\"242.822266\" xlink:href=\"#DejaVuSans-52\"/>\n      </g>\n     </g>\n    </g>\n    <g id=\"xtick_2\">\n     <g id=\"line2d_3\">\n      <path clip-path=\"url(#pe3d60ae0ea)\" d=\"M 151.372585 224.64 \nL 151.372585 7.2 \n\" style=\"fill:none;stroke:#ffffff;stroke-linecap:square;stroke-width:0.8;\"/>\n     </g>\n     <g id=\"line2d_4\">\n      <g>\n       <use style=\"fill:#555555;stroke:#555555;stroke-width:0.8;\" x=\"151.372585\" xlink:href=\"#m3d2c6088e8\" y=\"224.64\"/>\n      </g>\n     </g>\n     <g id=\"text_2\">\n      <!-- −0.02 -->\n      <g style=\"fill:#555555;\" transform=\"translate(136.049929 239.238437)scale(0.1 -0.1)\">\n       <defs>\n        <path d=\"M 19.1875 8.296875 \nL 53.609375 8.296875 \nL 53.609375 0 \nL 7.328125 0 \nL 7.328125 8.296875 \nQ 12.9375 14.109375 22.625 23.890625 \nQ 32.328125 33.6875 34.8125 36.53125 \nQ 39.546875 41.84375 41.421875 45.53125 \nQ 43.3125 49.21875 43.3125 52.78125 \nQ 43.3125 58.59375 39.234375 62.25 \nQ 35.15625 65.921875 28.609375 65.921875 \nQ 23.96875 65.921875 18.8125 64.3125 \nQ 13.671875 62.703125 7.8125 59.421875 \nL 7.8125 69.390625 \nQ 13.765625 71.78125 18.9375 73 \nQ 24.125 74.21875 28.421875 74.21875 \nQ 39.75 74.21875 46.484375 68.546875 \nQ 53.21875 62.890625 53.21875 53.421875 \nQ 53.21875 48.921875 51.53125 44.890625 \nQ 49.859375 40.875 45.40625 35.40625 \nQ 44.1875 33.984375 37.640625 27.21875 \nQ 31.109375 20.453125 19.1875 8.296875 \nz\n\" id=\"DejaVuSans-50\"/>\n       </defs>\n       <use xlink:href=\"#DejaVuSans-8722\"/>\n       <use x=\"83.789062\" xlink:href=\"#DejaVuSans-48\"/>\n       <use x=\"147.412109\" xlink:href=\"#DejaVuSans-46\"/>\n       <use x=\"179.199219\" xlink:href=\"#DejaVuSans-48\"/>\n       <use x=\"242.822266\" xlink:href=\"#DejaVuSans-50\"/>\n      </g>\n     </g>\n    </g>\n    <g id=\"xtick_3\">\n     <g id=\"line2d_5\">\n      <path clip-path=\"url(#pe3d60ae0ea)\" d=\"M 212.245313 224.64 \nL 212.245313 7.2 \n\" style=\"fill:none;stroke:#ffffff;stroke-linecap:square;stroke-width:0.8;\"/>\n     </g>\n     <g id=\"line2d_6\">\n      <g>\n       <use style=\"fill:#555555;stroke:#555555;stroke-width:0.8;\" x=\"212.245313\" xlink:href=\"#m3d2c6088e8\" y=\"224.64\"/>\n      </g>\n     </g>\n     <g id=\"text_3\">\n      <!-- 0.00 -->\n      <g style=\"fill:#555555;\" transform=\"translate(201.1125 239.238437)scale(0.1 -0.1)\">\n       <use xlink:href=\"#DejaVuSans-48\"/>\n       <use x=\"63.623047\" xlink:href=\"#DejaVuSans-46\"/>\n       <use x=\"95.410156\" xlink:href=\"#DejaVuSans-48\"/>\n       <use x=\"159.033203\" xlink:href=\"#DejaVuSans-48\"/>\n      </g>\n     </g>\n    </g>\n    <g id=\"xtick_4\">\n     <g id=\"line2d_7\">\n      <path clip-path=\"url(#pe3d60ae0ea)\" d=\"M 273.11804 224.64 \nL 273.11804 7.2 \n\" style=\"fill:none;stroke:#ffffff;stroke-linecap:square;stroke-width:0.8;\"/>\n     </g>\n     <g id=\"line2d_8\">\n      <g>\n       <use style=\"fill:#555555;stroke:#555555;stroke-width:0.8;\" x=\"273.11804\" xlink:href=\"#m3d2c6088e8\" y=\"224.64\"/>\n      </g>\n     </g>\n     <g id=\"text_4\">\n      <!-- 0.02 -->\n      <g style=\"fill:#555555;\" transform=\"translate(261.985227 239.238437)scale(0.1 -0.1)\">\n       <use xlink:href=\"#DejaVuSans-48\"/>\n       <use x=\"63.623047\" xlink:href=\"#DejaVuSans-46\"/>\n       <use x=\"95.410156\" xlink:href=\"#DejaVuSans-48\"/>\n       <use x=\"159.033203\" xlink:href=\"#DejaVuSans-50\"/>\n      </g>\n     </g>\n    </g>\n    <g id=\"xtick_5\">\n     <g id=\"line2d_9\">\n      <path clip-path=\"url(#pe3d60ae0ea)\" d=\"M 333.990767 224.64 \nL 333.990767 7.2 \n\" style=\"fill:none;stroke:#ffffff;stroke-linecap:square;stroke-width:0.8;\"/>\n     </g>\n     <g id=\"line2d_10\">\n      <g>\n       <use style=\"fill:#555555;stroke:#555555;stroke-width:0.8;\" x=\"333.990767\" xlink:href=\"#m3d2c6088e8\" y=\"224.64\"/>\n      </g>\n     </g>\n     <g id=\"text_5\">\n      <!-- 0.04 -->\n      <g style=\"fill:#555555;\" transform=\"translate(322.857955 239.238437)scale(0.1 -0.1)\">\n       <use xlink:href=\"#DejaVuSans-48\"/>\n       <use x=\"63.623047\" xlink:href=\"#DejaVuSans-46\"/>\n       <use x=\"95.410156\" xlink:href=\"#DejaVuSans-48\"/>\n       <use x=\"159.033203\" xlink:href=\"#DejaVuSans-52\"/>\n      </g>\n     </g>\n    </g>\n   </g>\n   <g id=\"matplotlib.axis_2\">\n    <g id=\"ytick_1\">\n     <g id=\"line2d_11\">\n      <path clip-path=\"url(#pe3d60ae0ea)\" d=\"M 44.845313 194.989091 \nL 379.645313 194.989091 \n\" style=\"fill:none;stroke:#ffffff;stroke-linecap:square;stroke-width:0.8;\"/>\n     </g>\n     <g id=\"line2d_12\">\n      <defs>\n       <path d=\"M 0 0 \nL -3.5 0 \n\" id=\"m21f3430756\" style=\"stroke:#555555;stroke-width:0.8;\"/>\n      </defs>\n      <g>\n       <use style=\"fill:#555555;stroke:#555555;stroke-width:0.8;\" x=\"44.845313\" xlink:href=\"#m21f3430756\" y=\"194.989091\"/>\n      </g>\n     </g>\n     <g id=\"text_6\">\n      <!-- −0.04 -->\n      <g style=\"fill:#555555;\" transform=\"translate(7.2 198.78831)scale(0.1 -0.1)\">\n       <use xlink:href=\"#DejaVuSans-8722\"/>\n       <use x=\"83.789062\" xlink:href=\"#DejaVuSans-48\"/>\n       <use x=\"147.412109\" xlink:href=\"#DejaVuSans-46\"/>\n       <use x=\"179.199219\" xlink:href=\"#DejaVuSans-48\"/>\n       <use x=\"242.822266\" xlink:href=\"#DejaVuSans-52\"/>\n      </g>\n     </g>\n    </g>\n    <g id=\"ytick_2\">\n     <g id=\"line2d_13\">\n      <path clip-path=\"url(#pe3d60ae0ea)\" d=\"M 44.845313 155.454545 \nL 379.645313 155.454545 \n\" style=\"fill:none;stroke:#ffffff;stroke-linecap:square;stroke-width:0.8;\"/>\n     </g>\n     <g id=\"line2d_14\">\n      <g>\n       <use style=\"fill:#555555;stroke:#555555;stroke-width:0.8;\" x=\"44.845313\" xlink:href=\"#m21f3430756\" y=\"155.454545\"/>\n      </g>\n     </g>\n     <g id=\"text_7\">\n      <!-- −0.02 -->\n      <g style=\"fill:#555555;\" transform=\"translate(7.2 159.253764)scale(0.1 -0.1)\">\n       <use xlink:href=\"#DejaVuSans-8722\"/>\n       <use x=\"83.789062\" xlink:href=\"#DejaVuSans-48\"/>\n       <use x=\"147.412109\" xlink:href=\"#DejaVuSans-46\"/>\n       <use x=\"179.199219\" xlink:href=\"#DejaVuSans-48\"/>\n       <use x=\"242.822266\" xlink:href=\"#DejaVuSans-50\"/>\n      </g>\n     </g>\n    </g>\n    <g id=\"ytick_3\">\n     <g id=\"line2d_15\">\n      <path clip-path=\"url(#pe3d60ae0ea)\" d=\"M 44.845313 115.92 \nL 379.645313 115.92 \n\" style=\"fill:none;stroke:#ffffff;stroke-linecap:square;stroke-width:0.8;\"/>\n     </g>\n     <g id=\"line2d_16\">\n      <g>\n       <use style=\"fill:#555555;stroke:#555555;stroke-width:0.8;\" x=\"44.845313\" xlink:href=\"#m21f3430756\" y=\"115.92\"/>\n      </g>\n     </g>\n     <g id=\"text_8\">\n      <!-- 0.00 -->\n      <g style=\"fill:#555555;\" transform=\"translate(15.579688 119.719219)scale(0.1 -0.1)\">\n       <use xlink:href=\"#DejaVuSans-48\"/>\n       <use x=\"63.623047\" xlink:href=\"#DejaVuSans-46\"/>\n       <use x=\"95.410156\" xlink:href=\"#DejaVuSans-48\"/>\n       <use x=\"159.033203\" xlink:href=\"#DejaVuSans-48\"/>\n      </g>\n     </g>\n    </g>\n    <g id=\"ytick_4\">\n     <g id=\"line2d_17\">\n      <path clip-path=\"url(#pe3d60ae0ea)\" d=\"M 44.845313 76.385455 \nL 379.645313 76.385455 \n\" style=\"fill:none;stroke:#ffffff;stroke-linecap:square;stroke-width:0.8;\"/>\n     </g>\n     <g id=\"line2d_18\">\n      <g>\n       <use style=\"fill:#555555;stroke:#555555;stroke-width:0.8;\" x=\"44.845313\" xlink:href=\"#m21f3430756\" y=\"76.385455\"/>\n      </g>\n     </g>\n     <g id=\"text_9\">\n      <!-- 0.02 -->\n      <g style=\"fill:#555555;\" transform=\"translate(15.579688 80.184673)scale(0.1 -0.1)\">\n       <use xlink:href=\"#DejaVuSans-48\"/>\n       <use x=\"63.623047\" xlink:href=\"#DejaVuSans-46\"/>\n       <use x=\"95.410156\" xlink:href=\"#DejaVuSans-48\"/>\n       <use x=\"159.033203\" xlink:href=\"#DejaVuSans-50\"/>\n      </g>\n     </g>\n    </g>\n    <g id=\"ytick_5\">\n     <g id=\"line2d_19\">\n      <path clip-path=\"url(#pe3d60ae0ea)\" d=\"M 44.845313 36.850909 \nL 379.645313 36.850909 \n\" style=\"fill:none;stroke:#ffffff;stroke-linecap:square;stroke-width:0.8;\"/>\n     </g>\n     <g id=\"line2d_20\">\n      <g>\n       <use style=\"fill:#555555;stroke:#555555;stroke-width:0.8;\" x=\"44.845313\" xlink:href=\"#m21f3430756\" y=\"36.850909\"/>\n      </g>\n     </g>\n     <g id=\"text_10\">\n      <!-- 0.04 -->\n      <g style=\"fill:#555555;\" transform=\"translate(15.579688 40.650128)scale(0.1 -0.1)\">\n       <use xlink:href=\"#DejaVuSans-48\"/>\n       <use x=\"63.623047\" xlink:href=\"#DejaVuSans-46\"/>\n       <use x=\"95.410156\" xlink:href=\"#DejaVuSans-48\"/>\n       <use x=\"159.033203\" xlink:href=\"#DejaVuSans-52\"/>\n      </g>\n     </g>\n    </g>\n   </g>\n   <g id=\"line2d_21\">\n    <defs>\n     <path d=\"M 0 3 \nC 0.795609 3 1.55874 2.683901 2.12132 2.12132 \nC 2.683901 1.55874 3 0.795609 3 0 \nC 3 -0.795609 2.683901 -1.55874 2.12132 -2.12132 \nC 1.55874 -2.683901 0.795609 -3 0 -3 \nC -0.795609 -3 -1.55874 -2.683901 -2.12132 -2.12132 \nC -2.683901 -1.55874 -3 -0.795609 -3 0 \nC -3 0.795609 -2.683901 1.55874 -2.12132 2.12132 \nC -1.55874 2.683901 -0.795609 3 0 3 \nz\n\" id=\"m7c1e2131e6\" style=\"stroke:#ff0000;\"/>\n    </defs>\n    <g clip-path=\"url(#pe3d60ae0ea)\">\n     <use style=\"fill:#ff0000;stroke:#ff0000;\" x=\"3528.951634\" xlink:href=\"#m7c1e2131e6\" y=\"-1\"/>\n     <use style=\"fill:#ff0000;stroke:#ff0000;\" x=\"3514.951261\" xlink:href=\"#m7c1e2131e6\" y=\"107.083216\"/>\n     <use style=\"fill:#ff0000;stroke:#ff0000;\" x=\"3221.178289\" xlink:href=\"#m7c1e2131e6\" y=\"22.21529\"/>\n     <use style=\"fill:#ff0000;stroke:#ff0000;\" x=\"3258.983531\" xlink:href=\"#m7c1e2131e6\" y=\"116.936041\"/>\n     <use style=\"fill:#ff0000;stroke:#ff0000;\" x=\"7446.672106\" xlink:href=\"#m7c1e2131e6\" y=\"2068.018773\"/>\n     <use style=\"fill:#ff0000;stroke:#ff0000;\" x=\"249.501034\" xlink:href=\"#m7c1e2131e6\" y=\"548.05393\"/>\n     <use style=\"fill:#ff0000;stroke:#ff0000;\" x=\"153.615005\" xlink:href=\"#m7c1e2131e6\" y=\"-1\"/>\n     <use style=\"fill:#ff0000;stroke:#ff0000;\" x=\"154.318652\" xlink:href=\"#m7c1e2131e6\" y=\"-1\"/>\n     <use style=\"fill:#ff0000;stroke:#ff0000;\" x=\"220.816955\" xlink:href=\"#m7c1e2131e6\" y=\"103.886654\"/>\n     <use style=\"fill:#ff0000;stroke:#ff0000;\" x=\"1717.144276\" xlink:href=\"#m7c1e2131e6\" y=\"28.196809\"/>\n     <use style=\"fill:#ff0000;stroke:#ff0000;\" x=\"3414.68489\" xlink:href=\"#m7c1e2131e6\" y=\"2080.799241\"/>\n     <use style=\"fill:#ff0000;stroke:#ff0000;\" x=\"1749.070116\" xlink:href=\"#m7c1e2131e6\" y=\"-1\"/>\n     <use style=\"fill:#ff0000;stroke:#ff0000;\" x=\"153.730944\" xlink:href=\"#m7c1e2131e6\" y=\"-1\"/>\n     <use style=\"fill:#ff0000;stroke:#ff0000;\" x=\"739.911916\" xlink:href=\"#m7c1e2131e6\" y=\"2057.22846\"/>\n     <use style=\"fill:#ff0000;stroke:#ff0000;\" x=\"351.745268\" xlink:href=\"#m7c1e2131e6\" y=\"2120.406304\"/>\n     <use style=\"fill:#ff0000;stroke:#ff0000;\" x=\"-1\" xlink:href=\"#m7c1e2131e6\" y=\"2128.814326\"/>\n     <use style=\"fill:#ff0000;stroke:#ff0000;\" x=\"-1\" xlink:href=\"#m7c1e2131e6\" y=\"2166.258042\"/>\n     <use style=\"fill:#ff0000;stroke:#ff0000;\" x=\"86.271874\" xlink:href=\"#m7c1e2131e6\" y=\"2165.540391\"/>\n     <use style=\"fill:#ff0000;stroke:#ff0000;\" x=\"40.763028\" xlink:href=\"#m7c1e2131e6\" y=\"1566.297052\"/>\n     <use style=\"fill:#ff0000;stroke:#ff0000;\" x=\"-1\" xlink:href=\"#m7c1e2131e6\" y=\"1517.459953\"/>\n     <use style=\"fill:#ff0000;stroke:#ff0000;\" x=\"-1\" xlink:href=\"#m7c1e2131e6\" y=\"2571.465431\"/>\n     <use style=\"fill:#ff0000;stroke:#ff0000;\" x=\"356.425413\" xlink:href=\"#m7c1e2131e6\" y=\"3142.537562\"/>\n     <use style=\"fill:#ff0000;stroke:#ff0000;\" x=\"122.401111\" xlink:href=\"#m7c1e2131e6\" y=\"-1\"/>\n     <use style=\"fill:#ff0000;stroke:#ff0000;\" x=\"543.10899\" xlink:href=\"#m7c1e2131e6\" y=\"-1\"/>\n     <use style=\"fill:#ff0000;stroke:#ff0000;\" x=\"1303.557028\" xlink:href=\"#m7c1e2131e6\" y=\"321.754742\"/>\n     <use style=\"fill:#ff0000;stroke:#ff0000;\" x=\"1217.861136\" xlink:href=\"#m7c1e2131e6\" y=\"1158.917445\"/>\n     <use style=\"fill:#ff0000;stroke:#ff0000;\" x=\"2242.866037\" xlink:href=\"#m7c1e2131e6\" y=\"-1\"/>\n     <use style=\"fill:#ff0000;stroke:#ff0000;\" x=\"-1\" xlink:href=\"#m7c1e2131e6\" y=\"2293.652442\"/>\n     <use style=\"fill:#ff0000;stroke:#ff0000;\" x=\"141.994628\" xlink:href=\"#m7c1e2131e6\" y=\"2507.990702\"/>\n    </g>\n   </g>\n   <g id=\"patch_3\">\n    <path d=\"M 44.845313 224.64 \nL 44.845313 7.2 \n\" style=\"fill:none;stroke:#ffffff;stroke-linecap:square;stroke-linejoin:miter;\"/>\n   </g>\n   <g id=\"patch_4\">\n    <path d=\"M 379.645313 224.64 \nL 379.645313 7.2 \n\" style=\"fill:none;stroke:#ffffff;stroke-linecap:square;stroke-linejoin:miter;\"/>\n   </g>\n   <g id=\"patch_5\">\n    <path d=\"M 44.845313 224.64 \nL 379.645313 224.64 \n\" style=\"fill:none;stroke:#ffffff;stroke-linecap:square;stroke-linejoin:miter;\"/>\n   </g>\n   <g id=\"patch_6\">\n    <path d=\"M 44.845313 7.2 \nL 379.645313 7.2 \n\" style=\"fill:none;stroke:#ffffff;stroke-linecap:square;stroke-linejoin:miter;\"/>\n   </g>\n  </g>\n </g>\n <defs>\n  <clipPath id=\"pe3d60ae0ea\">\n   <rect height=\"217.44\" width=\"334.8\" x=\"44.845313\" y=\"7.2\"/>\n  </clipPath>\n </defs>\n</svg>\n",
            "image/png": "[encoded data removed]"
          },
          "metadata": {}
        },
        {
          "output_type": "display_data",
          "data": {
            "text/plain": "<Figure size 432x288 with 0 Axes>"
          },
          "metadata": {}
        }
      ]
    },
    {
      "cell_type": "code",
      "execution_count": null,
      "metadata": {},
      "outputs": [],
      "source": [
        "# Hiển thị G = 50\n"
      ]
    },
    {
      "cell_type": "markdown",
      "metadata": {
        "id": "4VpU033dFmlk"
      },
      "source": [
        "### với hàm mục tiêu là Rosenbrock"
      ]
    },
    {
      "cell_type": "code",
      "metadata": {
        "id": "ccs31gyGdrHN"
      },
      "source": [
        "results = ringPSO(2,Rosenbrock,mapping[Rosenbrock])\n",
        "print(\"Lời giải tốt nhất: \", results[1])\n",
        "print(\"Điểm cho lời giải tốt nhất là:\", results[2])\n",
        "# visulize \n",
        "points = results[0]\n",
        "ani = draw(points,mapping[Rosenbrock],Rosenbrock)\n",
        "# HTML(ani.to_html5_video())"
      ],
      "execution_count": null,
      "outputs": []
    },
    {
      "cell_type": "markdown",
      "metadata": {
        "id": "2N3sAcx_F93m"
      },
      "source": [
        "### Hàm mục tiêu là Eggholder"
      ]
    },
    {
      "cell_type": "code",
      "metadata": {
        "colab": {
          "base_uri": "https://localhost:8080/"
        },
        "id": "tvn2qwcuF9Pf",
        "outputId": "e4bf2da0-3495-48aa-d264-aa821f4dbf0e"
      },
      "source": [
        "results = ringPSO(2,Eggholder,mapping[Eggholder])\n",
        "print(\"Lời giải tốt nhất: \", results[1])\n",
        "print(\"Điểm cho lời giải tốt nhất là:\", results[2])\n",
        "# visulize \n",
        "points = results[0]\n",
        "ani = draw(points,mapping[Eggholder],Eggholder)\n",
        "# HTML(ani.to_html5_video())"
      ],
      "execution_count": null,
      "outputs": []
    },
    {
      "cell_type": "markdown",
      "metadata": {
        "id": "DY6T1J8DGZun"
      },
      "source": [
        "### Hàm mục tiêu là Ackley"
      ]
    },
    {
      "cell_type": "code",
      "metadata": {
        "colab": {
          "base_uri": "https://localhost:8080/"
        },
        "id": "4ftRQBDv_Y0G",
        "outputId": "110089d1-9e8d-40e0-a263-8fdaf73f8cc5"
      },
      "source": [
        "results = ringPSO(2,Ackley,mapping[Ackley])\n",
        "print(\"Lời giải tốt nhất: \", results[1])\n",
        "print(\"Điểm cho lời giải tốt nhất là:\", results[2])\n",
        "# visulize \n",
        "points = results[0]\n",
        "ani = draw(points,mapping[Ackley],Ackley)\n",
        "# HTML(ani.to_html5_video())"
      ],
      "execution_count": null,
      "outputs": []
    },
    {
      "source": [
        "## TH d = 10"
      ],
      "cell_type": "code",
      "metadata": {
        "id": "jz5nalRTGrVa"
      },
      "execution_count": null,
      "outputs": []
    },
    {
      "source": [
        "### Hàm mục tiêu là  Rastrigin"
      ],
      "cell_type": "code",
      "metadata": {
        "id": "TsEFlPiSGthH"
      },
      "execution_count": null,
      "outputs": []
    },
    {
      "cell_type": "code",
      "metadata": {
        "id": "BzfcJMCkGqxU"
      },
      "source": [
        "f = open(\"d10_ring.txt\",'w+')\n",
        "f.write(\"Hàm mục tiêu là Rastrigin\\n\")\n",
        "l = [128, 256, 512, 1024, 2048]\n",
        "mean_objective_value = []\n",
        "std = []\n",
        "for N in l:\n",
        "    f.write(\"N = {}\\n\".format(N))\n",
        "    results = []\n",
        "    for i in range(10):\n",
        "        pred = ringPSO(10,Rastrigin, mapping[Rastrigin],N,RANDOM_SEED + i)\n",
        "        f.write(\"i = {}, random_seed = {}, Giá trị tốt nhất = {}, vị trí tốt nhất = {}\\n\".format(i,RANDOM_SEED+i,pred[1],pred[2]))\n",
        "        results.append(pred[1])\n",
        "    # Tính độ lệch chuẩn:\n",
        "    std.append(np.std(results))\n",
        "    mean_objective_value.append(sum(results)/10)\n",
        "    f.write(\"mean_objective_value = {}, std = {}\\n\".format(sum(results)/10,np.std(results)))\n"
      ],
      "execution_count": null,
      "outputs": []
    },
    {
      "cell_type": "markdown",
      "metadata": {
        "id": "-NJ56ll5Mqp8"
      },
      "source": [
        "### Hàm mục tiêu là Rosenbrock"
      ]
    },
    {
      "cell_type": "code",
      "metadata": {
        "colab": {
          "base_uri": "https://localhost:8080/",
          "height": 368
        },
        "id": "0ZQp7iJ5MzAe",
        "outputId": "00dfbf52-48b7-42f7-d3df-be5dc1a060a5"
      },
      "source": [
        "# f = open(\"d10_ring.txt\",'w+')\n",
        "f.write(\"Hàm mục tiêu là Rosenbrock\\n\")\n",
        "l = [128, 256, 512, 1024, 2048]\n",
        "mean_objective_value = []\n",
        "std = []\n",
        "for N in l:\n",
        "    f.write(\"N = {}\\n\".format(N))\n",
        "    results = []\n",
        "    for i in range(10):\n",
        "        pred = ringPSO(10,Rosenbrock, mapping[Rosenbrock],N,RANDOM_SEED + i)\n",
        "        f.write(\"i = {}, random_seed = {}, Giá trị tốt nhất = {}, vị trí tốt nhất = {}\\n\".format(i,RANDOM_SEED+i,pred[1],pred[2]))\n",
        "        results.append(pred[1])\n",
        "    # Tính độ lệch chuẩn:\n",
        "    std.append(np.std(results))\n",
        "    mean_objective_value.append(sum(results)/10)\n",
        "    f.write(\"mean_objective_value = {}, std = {}\\n\".format(sum(results)/10,np.std(results)))\n"
      ],
      "execution_count": null,
      "outputs": []
    },
    {
      "cell_type": "code",
      "execution_count": null,
      "metadata": {},
      "outputs": [],
      "source": [
        "# Star PSO"
      ]
    },
    {
      "cell_type": "code",
      "metadata": {
        "id": "aeclxeYOdxSk"
      },
      "source": [
        "def starPSO(num_values, function, search_domain, N = 32, random_seed = RANDOM_SEED, G = 50):\n",
        "    particles = init(num_values, search_domain, N, random_seed)\n",
        "    results = [particles.copy()]\n",
        "    # vị trí tốt nhất mà phần tử đó đã đạt được trong quá khứ\n",
        "    pBest = [1e+100]*N\n",
        "    yBest = np.zeros((N,num_values))\n",
        "\n",
        "    # vị trí tốt nhất mà cả bầy đàn đã đạt được trong quá khứ\n",
        "    gBest = 1e+100\n",
        "    zBest = None\n",
        "\n",
        "    # Khởi Tìm vị trí tốt nhất trong lần lặp đầu tiên\n",
        "    count = 0\n",
        "    for i, particle in enumerate(particles):\n",
        "        count += 1\n",
        "        if function(particle) < pBest[i]:\n",
        "            pBest[i] = function(particle)\n",
        "            yBest[i] = particle\n",
        "            if pBest[i] < gBest:\n",
        "                gBest = pBest[i]\n",
        "                zBest = yBest[i]\n",
        "    # Find the current velocity vector of particle i\n",
        "    V = particles - zBest\n",
        "    repeat = 1\n",
        "    if num_values == 2:\n",
        "        while(repeat <=50):\n",
        "            for i in range(N):\n",
        "                # random r1, r2\n",
        "                r1, r2 = np.random.uniform(0, 1,(2, num_values))\n",
        "                # cognitive component\n",
        "                cogn = c1*r1*(yBest[i] - particles[i])\n",
        "                # social component\n",
        "                social = c2*r2*(zBest - particles[i])\n",
        "\n",
        "                # update V[i]\n",
        "                V[i] = w*V[i] + cogn + social\n",
        "                # Update position\n",
        "                particles[i] += V[i]\n",
        "                for j in range(num_values):\n",
        "                    if particles[i][j] > search_domain[1]:\n",
        "                        particles[i][j] = search_domain[1] - np.random.uniform(0,0.01)\n",
        "\n",
        "                    if particles[i][j] < search_domain[0]:\n",
        "                        particles[i][j] = search_domain[0] + np.random.uniform(0,0.01)\n",
        "\n",
        "            for i in range(N):\n",
        "                if function(particles[i]) < pBest[i]:\n",
        "                    pBest[i] = function(particles[i])\n",
        "                    yBest[i] = particles[i]\n",
        "                    if pBest[i] < gBest:\n",
        "                        gBest = pBest[i]\n",
        "                        zBest = yBest[i]\n",
        "            repeat += 1\n",
        "            temp = particles.copy()\n",
        "            results.append(temp)\n",
        "    else:\n",
        "        while(count != 1000000):\n",
        "            for i in range(N):\n",
        "                # random r1, r2\n",
        "                r1, r2 = np.random.uniform(0, 1,(2, num_values))\n",
        "                # cognitive component\n",
        "                cogn = c1*r1*(yBest[i] - particles[i])\n",
        "                # social component\n",
        "                social = c2*r2*(zBest - particles[i])\n",
        "\n",
        "                # update V[i]\n",
        "                V[i] = w*V[i] + cogn + social\n",
        "                # Update position\n",
        "                particles[i] += V[i]\n",
        "                for j in range(num_values):\n",
        "                    if particles[i][j] > search_domain[1]:\n",
        "                        particles[i][j] = search_domain[1] - np.random.uniform(0,0.01)\n",
        "\n",
        "                    if particles[i][j] < search_domain[0]:\n",
        "                        particles[i][j] = search_domain[0] + np.random.uniform(0,0.01)\n",
        "\n",
        "            for i in range(N):\n",
        "                if count == 1000000:\n",
        "                    break\n",
        "                count += 1\n",
        "                if function(particles[i]) < pBest[i]:\n",
        "                    pBest[i] = function(particles[i])\n",
        "                    yBest[i] = particles[i]\n",
        "                    if pBest[i] < gBest:\n",
        "                        gBest = pBest[i]\n",
        "                        zBest = yBest[i]\n",
        "            temp = particles.copy()\n",
        "            results.append(temp)\n",
        "                \n",
        "    return results , gBest, zBest"
      ],
      "execution_count": null,
      "outputs": []
    },
    {
      "cell_type": "code",
      "execution_count": null,
      "metadata": {},
      "outputs": [],
      "source": [
        "results = starPSO(2,Rastrigin,mapping[Rastrigin])\n",
        "print(\"Lời giải tốt nhất: \", results[1])\n",
        "print(\"Điểm cho lời giải tốt nhất là:\", results[2])\n",
        "# visulize \n",
        "points = results[0]\n",
        "ani = draw(points,mapping[Rastrigin],Rastrigin)"
      ]
    },
    {
      "cell_type": "code",
      "execution_count": null,
      "metadata": {},
      "outputs": [],
      "source": [
        "results = starPSO(2,Rosenbrock,mapping[Rosenbrock])\n",
        "print(\"Lời giải tốt nhất: \", results[1])\n",
        "print(\"Điểm cho lời giải tốt nhất là:\", results[2])\n",
        "# visulize \n",
        "points = results[0]\n",
        "ani = draw(points,mapping[Rosenbrock],Rosenbrock)"
      ]
    },
    {
      "cell_type": "code",
      "execution_count": null,
      "metadata": {},
      "outputs": [],
      "source": [
        "results = starPSO(2,Eggholder,mapping[Eggholder])\n",
        "print(\"Lời giải tốt nhất: \", results[1])\n",
        "print(\"Điểm cho lời giải tốt nhất là:\", results[2])\n",
        "# visulize \n",
        "points = results[0]\n",
        "ani = draw(points,mapping[Eggholder],Eggholder)"
      ]
    },
    {
      "cell_type": "code",
      "execution_count": null,
      "metadata": {},
      "outputs": [],
      "source": [
        "results = starPSO(2,Ackley,mapping[Ackley])\n",
        "print(\"Lời giải tốt nhất: \", results[1])\n",
        "print(\"Điểm cho lời giải tốt nhất là:\", results[2])\n",
        "# visulize \n",
        "points = results[0]\n",
        "ani = draw(points,mapping[Ackley],Ackley)"
      ]
    },
    {
      "cell_type": "code",
      "execution_count": null,
      "metadata": {},
      "outputs": [],
      "source": [
        "f = open(\"d10_star.txt\",'w+')\n",
        "f.write(\"Hàm mục tiêu là Rastrigin\\n\")\n",
        "l = [128, 256, 512, 1024, 2048]\n",
        "mean_objective_value = []\n",
        "std = []\n",
        "for N in l:\n",
        "    f.write(\"N = {}\\n\".format(N))\n",
        "    results = []\n",
        "    for i in range(10):\n",
        "        pred = starPSO(10,Rastrigin, mapping[Rastrigin],N,RANDOM_SEED + i)\n",
        "        f.write(\"i = {}, random_seed = {}, Giá trị tốt nhất = {}, vị trí tốt nhất = {}\\n\".format(i,RANDOM_SEED+i,pred[1],pred[2]))\n",
        "        results.append(pred[1])\n",
        "    # Tính độ lệch chuẩn:\n",
        "    std.append(np.std(results))\n",
        "    mean_objective_value.append(sum(results)/10)\n",
        "    f.write(\"mean_objective_value = {}, std = {}\\n\".format(sum(results)/10,np.std(results)))"
      ]
    },
    {
      "cell_type": "code",
      "execution_count": null,
      "metadata": {},
      "outputs": [],
      "source": [
        "# f = open(\"d10_ring.txt\",'w+')\n",
        "f.write(\"Hàm mục tiêu là Rosenbrock\\n\")\n",
        "l = [128, 256, 512, 1024, 2048]\n",
        "mean_objective_value = []\n",
        "std = []\n",
        "for N in l:\n",
        "    f.write(\"N = {}\\n\".format(N))\n",
        "    results = []\n",
        "    for i in range(10):\n",
        "        pred = starPSO(10,Rosenbrock, mapping[Rosenbrock],N,RANDOM_SEED + i)\n",
        "        f.write(\"i = {}, random_seed = {}, Giá trị tốt nhất = {}, vị trí tốt nhất = {}\\n\".format(i,RANDOM_SEED+i,pred[1],pred[2]))\n",
        "        results.append(pred[1])\n",
        "    # Tính độ lệch chuẩn:\n",
        "    std.append(np.std(results))\n",
        "    mean_objective_value.append(sum(results)/10)\n",
        "    f.write(\"mean_objective_value = {}, std = {}\\n\".format(sum(results)/10,np.std(results)))\n"
      ]
    }
  ]
}